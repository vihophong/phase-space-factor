{
 "cells": [
  {
   "cell_type": "code",
   "execution_count": 1,
   "metadata": {},
   "outputs": [
    {
     "data": {
      "application/javascript": [
       "\n",
       "require(['notebook'],\n",
       "  function() {\n",
       "    IPython.CodeCell.config_defaults.highlight_modes['magic_text/x-c++src'] = {'reg':[/^%%cpp/]};\n",
       "    console.log(\"JupyROOT - %%cpp magic configured\");\n",
       "  }\n",
       ");\n"
      ]
     },
     "metadata": {},
     "output_type": "display_data"
    },
    {
     "name": "stdout",
     "output_type": "stream",
     "text": [
      "Welcome to JupyROOT 6.08/00\n"
     ]
    }
   ],
   "source": [
    "import ROOT\n",
    "import matplotlib.pyplot as plt\n",
    "import numpy as np\n",
    "import array"
   ]
  },
  {
   "cell_type": "markdown",
   "metadata": {},
   "source": [
    "### Read csv file with parameters and put it into an array of dictionary"
   ]
  },
  {
   "cell_type": "code",
   "execution_count": 2,
   "metadata": {},
   "outputs": [],
   "source": [
    "tree = ROOT.TTree(\"tree\",\"tree\");\n",
    "tree.ReadFile(\"f_table_wilkinson74.csv\");\n",
    "Z = np.zeros(1,dtype=int)\n",
    "A = np.zeros(1,dtype=int)\n",
    "An = np.zeros(20)\n",
    "tree.SetBranchAddress(\"Z\",Z);\n",
    "tree.SetBranchAddress(\"A\",A);\n",
    "tree.SetBranchAddress(\"An\",An);\n",
    "ftable = []\n",
    "for i in range(tree.GetEntries()):\n",
    "    tree.GetEntry(i)\n",
    "    An_c=[]\n",
    "    Z_c=Z[0]\n",
    "    A_c=A[0]\n",
    "    for j in An:\n",
    "        An_c.append(j)\n",
    "    ftable.append({\"Z\": Z_c,\"A\": A_c,\"An\": An_c})\n",
    "np.save(\"f_table_wilkinson74.npy\",ftable)"
   ]
  },
  {
   "cell_type": "markdown",
   "metadata": {},
   "source": [
    "### Load .npy file and create a function"
   ]
  },
  {
   "cell_type": "code",
   "execution_count": 3,
   "metadata": {},
   "outputs": [],
   "source": [
    "ftable  = np.load(\"f_table_wilkinson74.npy\",allow_pickle='TRUE')"
   ]
  },
  {
   "cell_type": "code",
   "execution_count": 4,
   "metadata": {},
   "outputs": [],
   "source": [
    "def f_func(x,p):\n",
    "    Z = int(p[0])\n",
    "    E = p[1]-x[0]\n",
    "    W = E/0.510998918+1 #unit of mec2\n",
    "    fZ0 = 1./60.*(2*W**4-9*W**2-8)*np.sqrt(W**2-1) +1/4*W*np.log(W+np.sqrt(W**2-1))\n",
    "    An = ftable[Z-2][\"An\"]\n",
    "    An_i=[]\n",
    "    if (E>0 and E<0.079):\n",
    "        An_i.append(An[0])\n",
    "        An_i.append(An[1])\n",
    "        An_i.append(An[2])\n",
    "        An_i.append(An[3])\n",
    "    elif (E>=0.079 and E<0.501):\n",
    "        An_i.append(An[4])\n",
    "        An_i.append(An[5])\n",
    "        An_i.append(An[6])\n",
    "        An_i.append(An[7])\n",
    "    elif (E>=0.501 and E<3.162):\n",
    "        An_i.append(An[8])\n",
    "        An_i.append(An[9])\n",
    "        An_i.append(An[10])\n",
    "        An_i.append(An[11])\n",
    "    elif (E>=3.162 and E<12.589):\n",
    "        An_i.append(An[12])\n",
    "        An_i.append(An[13])\n",
    "        An_i.append(An[14])\n",
    "        An_i.append(An[15])\n",
    "    elif (E>=12.589 and E<25.044):\n",
    "        An_i.append(An[16])\n",
    "        An_i.append(An[17])\n",
    "        An_i.append(An[18])\n",
    "        An_i.append(An[19])\n",
    "    print(An_i)\n",
    "    S = np.exp(An_i[0]+An_i[1]*np.log(E)+An_i[2]*(np.log(E)**2)+An_i[3]*(np.log(E)**3))\n",
    "    return fZ0*S          "
   ]
  },
  {
   "cell_type": "markdown",
   "metadata": {},
   "source": [
    "### Numerator to calculate mean energy"
   ]
  },
  {
   "cell_type": "code",
   "execution_count": 5,
   "metadata": {},
   "outputs": [],
   "source": [
    "def f_func_num(x,p):\n",
    "    return f_func(x,p)*(x[0]-p[2])"
   ]
  },
  {
   "cell_type": "code",
   "execution_count": 6,
   "metadata": {},
   "outputs": [],
   "source": [
    "def evalEmean(Qb,Sn,ZZ):  \n",
    "    f_d = ROOT.TF1(\"f_func\",f_func,0.,Qb,2);\n",
    "    f_d.SetParameter(0,ZZ)\n",
    "    f_d.SetParameter(1,Qb)\n",
    "    f_n = ROOT.TF1(\"f_func_num\",f_func_num,0.,Qb,3);\n",
    "    f_n.SetParameter(0,ZZ)\n",
    "    f_n.SetParameter(1,Qb)\n",
    "    f_n.SetParameter(2,Sn)\n",
    "    return f_n.Integral(Sn,Qb,0.01)/f_d.Integral(Sn,Qb,0.01)"
   ]
  },
  {
   "cell_type": "code",
   "execution_count": 7,
   "metadata": {},
   "outputs": [],
   "source": [
    "def evalEmeanVar(Qb,Sn,dQb,dSn,ZZ,n=1000):\n",
    "    retVal = []\n",
    "    r = ROOT.TRandom3()\n",
    "    for i in range(n):\n",
    "        Sn_i = r.Gaus(Sn,dSn)\n",
    "        Qb_i = r.Gaus(Qb,dQb)\n",
    "        retVal.append(evalEmean(Qb_i,Sn_i,ZZ))\n",
    "    retVal = array.array('f',retVal)\n",
    "    meanfit = ROOT.TMath.Mean(n,retVal)\n",
    "    mean = evalEmean(Qb,Sn,ZZ)\n",
    "    sigma = ROOT.TMath.RMS(n,retVal)\n",
    "    return mean,sigma,meanfit"
   ]
  },
  {
   "cell_type": "code",
   "execution_count": 8,
   "metadata": {},
   "outputs": [],
   "source": [
    "def cal_eff(E):\n",
    "    gr = ROOT.TGraph(\"upc_brikenV69_wClover.txt\",\"%*lg %*lg %*lg %lg %lg %*lg\")\n",
    "    return gr.Eval(E)"
   ]
  },
  {
   "cell_type": "code",
   "execution_count": 9,
   "metadata": {},
   "outputs": [],
   "source": [
    "def cal_all(Qb,Sn,dQb,dSn,e_factor,Z):\n",
    "    mean,sigma,meanfit = evalEmeanVar(Qb,Sn,dQb,dSn,Z)\n",
    "    e_mean = mean * e_factor\n",
    "    e_mean_fit = meanfit * e_factor\n",
    "    e_sigma = sigma * e_factor\n",
    "    e_low  = e_mean - np.sqrt((e_mean-e_mean/2)**2+e_sigma**2)\n",
    "    e_hi = e_mean + np.sqrt((e_mean*2-e_mean)**2+e_sigma**2)\n",
    "    return e_mean,cal_eff(e_mean),e_low,cal_eff(e_low),e_hi,cal_eff(e_hi),e_mean_fit,e_sigma"
   ]
  },
  {
   "cell_type": "code",
   "execution_count": 10,
   "metadata": {},
   "outputs": [
    {
     "name": "stdout",
     "output_type": "stream",
     "text": [
      "(0.8348119419302963, 0.6608986506712063, 0.4031522558261014, 0.6695936954883478, 1.6768412278815905, 0.6331558105308419, 0.8381954280138015, 0.1100106358958711)\n"
     ]
    }
   ],
   "source": [
    "e_mean,eff_mean,e_low,eff_low,e_hi,eff_hi,e_mean_fit,e_sigma = cal_all(14.464,3.63119,1.,1.,0.5,49)\n",
    "print(e_mean,eff_mean,e_low,eff_low,e_hi,eff_hi,e_mean_fit,e_sigma)"
   ]
  },
  {
   "cell_type": "code",
   "execution_count": 17,
   "metadata": {},
   "outputs": [
    {
     "ename": "IndexError",
     "evalue": "list index out of range",
     "output_type": "error",
     "traceback": [
      "\u001b[0;31m\u001b[0m",
      "\u001b[0;31mIndexError\u001b[0mTraceback (most recent call last)",
      "\u001b[0;32m<ipython-input-5-b89119854e41>\u001b[0m in \u001b[0;36mf_func_num\u001b[0;34m(x, p)\u001b[0m\n\u001b[1;32m      1\u001b[0m \u001b[0;32mdef\u001b[0m \u001b[0mf_func_num\u001b[0m\u001b[0;34m(\u001b[0m\u001b[0mx\u001b[0m\u001b[0;34m,\u001b[0m\u001b[0mp\u001b[0m\u001b[0;34m)\u001b[0m\u001b[0;34m:\u001b[0m\u001b[0;34m\u001b[0m\u001b[0m\n\u001b[0;32m----> 2\u001b[0;31m     \u001b[0;32mreturn\u001b[0m \u001b[0mf_func\u001b[0m\u001b[0;34m(\u001b[0m\u001b[0mx\u001b[0m\u001b[0;34m,\u001b[0m\u001b[0mp\u001b[0m\u001b[0;34m)\u001b[0m\u001b[0;34m*\u001b[0m\u001b[0;34m(\u001b[0m\u001b[0mx\u001b[0m\u001b[0;34m[\u001b[0m\u001b[0;36m0\u001b[0m\u001b[0;34m]\u001b[0m\u001b[0;34m-\u001b[0m\u001b[0mp\u001b[0m\u001b[0;34m[\u001b[0m\u001b[0;36m2\u001b[0m\u001b[0;34m]\u001b[0m\u001b[0;34m)\u001b[0m\u001b[0;34m\u001b[0m\u001b[0m\n\u001b[0m",
      "\u001b[0;32m<ipython-input-4-4c7170706357>\u001b[0m in \u001b[0;36mf_func\u001b[0;34m(x, p)\u001b[0m\n\u001b[1;32m     32\u001b[0m         \u001b[0mAn_i\u001b[0m\u001b[0;34m.\u001b[0m\u001b[0mappend\u001b[0m\u001b[0;34m(\u001b[0m\u001b[0mAn\u001b[0m\u001b[0;34m[\u001b[0m\u001b[0;36m19\u001b[0m\u001b[0;34m]\u001b[0m\u001b[0;34m)\u001b[0m\u001b[0;34m\u001b[0m\u001b[0m\n\u001b[1;32m     33\u001b[0m     \u001b[0;31m#print(An_i)\u001b[0m\u001b[0;34m\u001b[0m\u001b[0;34m\u001b[0m\u001b[0m\n\u001b[0;32m---> 34\u001b[0;31m     \u001b[0mS\u001b[0m \u001b[0;34m=\u001b[0m \u001b[0mnp\u001b[0m\u001b[0;34m.\u001b[0m\u001b[0mexp\u001b[0m\u001b[0;34m(\u001b[0m\u001b[0mAn_i\u001b[0m\u001b[0;34m[\u001b[0m\u001b[0;36m0\u001b[0m\u001b[0;34m]\u001b[0m\u001b[0;34m+\u001b[0m\u001b[0mAn_i\u001b[0m\u001b[0;34m[\u001b[0m\u001b[0;36m1\u001b[0m\u001b[0;34m]\u001b[0m\u001b[0;34m*\u001b[0m\u001b[0mnp\u001b[0m\u001b[0;34m.\u001b[0m\u001b[0mlog\u001b[0m\u001b[0;34m(\u001b[0m\u001b[0mE\u001b[0m\u001b[0;34m)\u001b[0m\u001b[0;34m+\u001b[0m\u001b[0mAn_i\u001b[0m\u001b[0;34m[\u001b[0m\u001b[0;36m2\u001b[0m\u001b[0;34m]\u001b[0m\u001b[0;34m*\u001b[0m\u001b[0;34m(\u001b[0m\u001b[0mnp\u001b[0m\u001b[0;34m.\u001b[0m\u001b[0mlog\u001b[0m\u001b[0;34m(\u001b[0m\u001b[0mE\u001b[0m\u001b[0;34m)\u001b[0m\u001b[0;34m**\u001b[0m\u001b[0;36m2\u001b[0m\u001b[0;34m)\u001b[0m\u001b[0;34m+\u001b[0m\u001b[0mAn_i\u001b[0m\u001b[0;34m[\u001b[0m\u001b[0;36m3\u001b[0m\u001b[0;34m]\u001b[0m\u001b[0;34m*\u001b[0m\u001b[0;34m(\u001b[0m\u001b[0mnp\u001b[0m\u001b[0;34m.\u001b[0m\u001b[0mlog\u001b[0m\u001b[0;34m(\u001b[0m\u001b[0mE\u001b[0m\u001b[0;34m)\u001b[0m\u001b[0;34m**\u001b[0m\u001b[0;36m3\u001b[0m\u001b[0;34m)\u001b[0m\u001b[0;34m)\u001b[0m\u001b[0;34m\u001b[0m\u001b[0m\n\u001b[0m\u001b[1;32m     35\u001b[0m     \u001b[0;32mreturn\u001b[0m \u001b[0mfZ0\u001b[0m\u001b[0;34m*\u001b[0m\u001b[0mS\u001b[0m\u001b[0;34m\u001b[0m\u001b[0m\n",
      "\u001b[0;31mIndexError\u001b[0m: list index out of range"
     ]
    },
    {
     "ename": "Exception",
     "evalue": "double TF1::Integral(double a, double b, double epsrel = 9.9999999999999998E-13) =>\n    TFN python function call failed (C++ exception of type runtime_error)",
     "output_type": "error",
     "traceback": [
      "\u001b[0;31m\u001b[0m",
      "\u001b[0;31mException\u001b[0mTraceback (most recent call last)",
      "\u001b[0;32m<ipython-input-17-6e86aff87eef>\u001b[0m in \u001b[0;36m<module>\u001b[0;34m()\u001b[0m\n\u001b[0;32m----> 1\u001b[0;31m \u001b[0;32mprint\u001b[0m\u001b[0;34m(\u001b[0m\u001b[0mevalEmean\u001b[0m\u001b[0;34m(\u001b[0m\u001b[0;36m9.2\u001b[0m\u001b[0;34m,\u001b[0m\u001b[0;36m9.3\u001b[0m\u001b[0;34m,\u001b[0m\u001b[0;36m24\u001b[0m\u001b[0;34m)\u001b[0m\u001b[0;34m)\u001b[0m\u001b[0;34m\u001b[0m\u001b[0m\n\u001b[0m",
      "\u001b[0;32m<ipython-input-6-60bd76c544d6>\u001b[0m in \u001b[0;36mevalEmean\u001b[0;34m(Qb, Sn, ZZ)\u001b[0m\n\u001b[1;32m      7\u001b[0m     \u001b[0mf_n\u001b[0m\u001b[0;34m.\u001b[0m\u001b[0mSetParameter\u001b[0m\u001b[0;34m(\u001b[0m\u001b[0;36m1\u001b[0m\u001b[0;34m,\u001b[0m\u001b[0mQb\u001b[0m\u001b[0;34m)\u001b[0m\u001b[0;34m\u001b[0m\u001b[0m\n\u001b[1;32m      8\u001b[0m     \u001b[0mf_n\u001b[0m\u001b[0;34m.\u001b[0m\u001b[0mSetParameter\u001b[0m\u001b[0;34m(\u001b[0m\u001b[0;36m2\u001b[0m\u001b[0;34m,\u001b[0m\u001b[0mSn\u001b[0m\u001b[0;34m)\u001b[0m\u001b[0;34m\u001b[0m\u001b[0m\n\u001b[0;32m----> 9\u001b[0;31m     \u001b[0;32mreturn\u001b[0m \u001b[0mf_n\u001b[0m\u001b[0;34m.\u001b[0m\u001b[0mIntegral\u001b[0m\u001b[0;34m(\u001b[0m\u001b[0mSn\u001b[0m\u001b[0;34m,\u001b[0m\u001b[0mQb\u001b[0m\u001b[0;34m,\u001b[0m\u001b[0;36m0.01\u001b[0m\u001b[0;34m)\u001b[0m\u001b[0;34m/\u001b[0m\u001b[0mf_d\u001b[0m\u001b[0;34m.\u001b[0m\u001b[0mIntegral\u001b[0m\u001b[0;34m(\u001b[0m\u001b[0mSn\u001b[0m\u001b[0;34m,\u001b[0m\u001b[0mQb\u001b[0m\u001b[0;34m,\u001b[0m\u001b[0;36m0.01\u001b[0m\u001b[0;34m)\u001b[0m\u001b[0;34m\u001b[0m\u001b[0m\n\u001b[0m",
      "\u001b[0;31mException\u001b[0m: double TF1::Integral(double a, double b, double epsrel = 9.9999999999999998E-13) =>\n    TFN python function call failed (C++ exception of type runtime_error)"
     ]
    },
    {
     "name": "stderr",
     "output_type": "stream",
     "text": [
      "/usr/lib/python2.7/site-packages/ipykernel_launcher.py:5: RuntimeWarning: invalid value encountered in sqrt\n",
      "  \"\"\"\n"
     ]
    }
   ],
   "source": [
    "print(evalEmean(9.2,9.3,24))"
   ]
  },
  {
   "cell_type": "code",
   "execution_count": 16,
   "metadata": {},
   "outputs": [],
   "source": [
    "def cal_bash(inputfile, outputfile,e_factor=1):    \n",
    "    file1 = open(inputfile)\n",
    "    count = 0\n",
    "    while True:\n",
    "        count+=1\n",
    "        line = file1.readline()\n",
    "        if not line:\n",
    "            break\n",
    "        line = line.strip().split()\n",
    "        print(count,line)\n",
    "        Qb = float(line[2])\n",
    "        if (Qb>25):\n",
    "            Qb=25\n",
    "        Sn = float(line[1])\n",
    "        dQb = float(line[4])\n",
    "        dSn = float(line[3])\n",
    "        ZZ = int(line[0])\n",
    "        #if (count != 7):\n",
    "        e_mean,eff_mean,e_low,eff_low,e_hi,eff_hi,e_mean_fit,e_sigma = cal_all(Qb,Sn,dQb,dSn,e_factor,ZZ)\n",
    "        #if (count==3):\n",
    "        #    break\n",
    "        "
   ]
  },
  {
   "cell_type": "code",
   "execution_count": 15,
   "metadata": {},
   "outputs": [
    {
     "ename": "IndexError",
     "evalue": "list index out of range",
     "output_type": "error",
     "traceback": [
      "\u001b[0;31m\u001b[0m",
      "\u001b[0;31mIndexError\u001b[0mTraceback (most recent call last)",
      "\u001b[0;32m<ipython-input-5-b89119854e41>\u001b[0m in \u001b[0;36mf_func_num\u001b[0;34m(x, p)\u001b[0m\n\u001b[1;32m      1\u001b[0m \u001b[0;32mdef\u001b[0m \u001b[0mf_func_num\u001b[0m\u001b[0;34m(\u001b[0m\u001b[0mx\u001b[0m\u001b[0;34m,\u001b[0m\u001b[0mp\u001b[0m\u001b[0;34m)\u001b[0m\u001b[0;34m:\u001b[0m\u001b[0;34m\u001b[0m\u001b[0m\n\u001b[0;32m----> 2\u001b[0;31m     \u001b[0;32mreturn\u001b[0m \u001b[0mf_func\u001b[0m\u001b[0;34m(\u001b[0m\u001b[0mx\u001b[0m\u001b[0;34m,\u001b[0m\u001b[0mp\u001b[0m\u001b[0;34m)\u001b[0m\u001b[0;34m*\u001b[0m\u001b[0;34m(\u001b[0m\u001b[0mx\u001b[0m\u001b[0;34m[\u001b[0m\u001b[0;36m0\u001b[0m\u001b[0;34m]\u001b[0m\u001b[0;34m-\u001b[0m\u001b[0mp\u001b[0m\u001b[0;34m[\u001b[0m\u001b[0;36m2\u001b[0m\u001b[0;34m]\u001b[0m\u001b[0;34m)\u001b[0m\u001b[0;34m\u001b[0m\u001b[0m\n\u001b[0m",
      "\u001b[0;32m<ipython-input-4-4c7170706357>\u001b[0m in \u001b[0;36mf_func\u001b[0;34m(x, p)\u001b[0m\n\u001b[1;32m     32\u001b[0m         \u001b[0mAn_i\u001b[0m\u001b[0;34m.\u001b[0m\u001b[0mappend\u001b[0m\u001b[0;34m(\u001b[0m\u001b[0mAn\u001b[0m\u001b[0;34m[\u001b[0m\u001b[0;36m19\u001b[0m\u001b[0;34m]\u001b[0m\u001b[0;34m)\u001b[0m\u001b[0;34m\u001b[0m\u001b[0m\n\u001b[1;32m     33\u001b[0m     \u001b[0;31m#print(An_i)\u001b[0m\u001b[0;34m\u001b[0m\u001b[0;34m\u001b[0m\u001b[0m\n\u001b[0;32m---> 34\u001b[0;31m     \u001b[0mS\u001b[0m \u001b[0;34m=\u001b[0m \u001b[0mnp\u001b[0m\u001b[0;34m.\u001b[0m\u001b[0mexp\u001b[0m\u001b[0;34m(\u001b[0m\u001b[0mAn_i\u001b[0m\u001b[0;34m[\u001b[0m\u001b[0;36m0\u001b[0m\u001b[0;34m]\u001b[0m\u001b[0;34m+\u001b[0m\u001b[0mAn_i\u001b[0m\u001b[0;34m[\u001b[0m\u001b[0;36m1\u001b[0m\u001b[0;34m]\u001b[0m\u001b[0;34m*\u001b[0m\u001b[0mnp\u001b[0m\u001b[0;34m.\u001b[0m\u001b[0mlog\u001b[0m\u001b[0;34m(\u001b[0m\u001b[0mE\u001b[0m\u001b[0;34m)\u001b[0m\u001b[0;34m+\u001b[0m\u001b[0mAn_i\u001b[0m\u001b[0;34m[\u001b[0m\u001b[0;36m2\u001b[0m\u001b[0;34m]\u001b[0m\u001b[0;34m*\u001b[0m\u001b[0;34m(\u001b[0m\u001b[0mnp\u001b[0m\u001b[0;34m.\u001b[0m\u001b[0mlog\u001b[0m\u001b[0;34m(\u001b[0m\u001b[0mE\u001b[0m\u001b[0;34m)\u001b[0m\u001b[0;34m**\u001b[0m\u001b[0;36m2\u001b[0m\u001b[0;34m)\u001b[0m\u001b[0;34m+\u001b[0m\u001b[0mAn_i\u001b[0m\u001b[0;34m[\u001b[0m\u001b[0;36m3\u001b[0m\u001b[0;34m]\u001b[0m\u001b[0;34m*\u001b[0m\u001b[0;34m(\u001b[0m\u001b[0mnp\u001b[0m\u001b[0;34m.\u001b[0m\u001b[0mlog\u001b[0m\u001b[0;34m(\u001b[0m\u001b[0mE\u001b[0m\u001b[0;34m)\u001b[0m\u001b[0;34m**\u001b[0m\u001b[0;36m3\u001b[0m\u001b[0;34m)\u001b[0m\u001b[0;34m)\u001b[0m\u001b[0;34m\u001b[0m\u001b[0m\n\u001b[0m\u001b[1;32m     35\u001b[0m     \u001b[0;32mreturn\u001b[0m \u001b[0mfZ0\u001b[0m\u001b[0;34m*\u001b[0m\u001b[0mS\u001b[0m\u001b[0;34m\u001b[0m\u001b[0m\n",
      "\u001b[0;31mIndexError\u001b[0m: list index out of range"
     ]
    },
    {
     "ename": "Exception",
     "evalue": "double TF1::Integral(double a, double b, double epsrel = 9.9999999999999998E-13) =>\n    TFN python function call failed (C++ exception of type runtime_error)",
     "output_type": "error",
     "traceback": [
      "\u001b[0;31m\u001b[0m",
      "\u001b[0;31mException\u001b[0mTraceback (most recent call last)",
      "\u001b[0;32m<ipython-input-15-3926e3886784>\u001b[0m in \u001b[0;36m<module>\u001b[0;34m()\u001b[0m\n\u001b[0;32m----> 1\u001b[0;31m \u001b[0mcal_bash\u001b[0m\u001b[0;34m(\u001b[0m\u001b[0;34m\"input_Qb1n.txt\"\u001b[0m\u001b[0;34m,\u001b[0m\u001b[0;34m\"test.txt\"\u001b[0m\u001b[0;34m)\u001b[0m\u001b[0;34m\u001b[0m\u001b[0m\n\u001b[0m",
      "\u001b[0;32m<ipython-input-14-1f8a1333b5db>\u001b[0m in \u001b[0;36mcal_bash\u001b[0;34m(inputfile, outputfile, e_factor)\u001b[0m\n\u001b[1;32m     17\u001b[0m         \u001b[0mZZ\u001b[0m \u001b[0;34m=\u001b[0m \u001b[0mint\u001b[0m\u001b[0;34m(\u001b[0m\u001b[0mline\u001b[0m\u001b[0;34m[\u001b[0m\u001b[0;36m0\u001b[0m\u001b[0;34m]\u001b[0m\u001b[0;34m)\u001b[0m\u001b[0;34m\u001b[0m\u001b[0m\n\u001b[1;32m     18\u001b[0m         \u001b[0;32mif\u001b[0m \u001b[0;34m(\u001b[0m\u001b[0mcount\u001b[0m \u001b[0;34m!=\u001b[0m \u001b[0;36m7\u001b[0m\u001b[0;34m)\u001b[0m\u001b[0;34m:\u001b[0m\u001b[0;34m\u001b[0m\u001b[0m\n\u001b[0;32m---> 19\u001b[0;31m             \u001b[0me_mean\u001b[0m\u001b[0;34m,\u001b[0m\u001b[0meff_mean\u001b[0m\u001b[0;34m,\u001b[0m\u001b[0me_low\u001b[0m\u001b[0;34m,\u001b[0m\u001b[0meff_low\u001b[0m\u001b[0;34m,\u001b[0m\u001b[0me_hi\u001b[0m\u001b[0;34m,\u001b[0m\u001b[0meff_hi\u001b[0m\u001b[0;34m,\u001b[0m\u001b[0me_mean_fit\u001b[0m\u001b[0;34m,\u001b[0m\u001b[0me_sigma\u001b[0m \u001b[0;34m=\u001b[0m \u001b[0mcal_all\u001b[0m\u001b[0;34m(\u001b[0m\u001b[0mQb\u001b[0m\u001b[0;34m,\u001b[0m\u001b[0mSn\u001b[0m\u001b[0;34m,\u001b[0m\u001b[0mdQb\u001b[0m\u001b[0;34m,\u001b[0m\u001b[0mdSn\u001b[0m\u001b[0;34m,\u001b[0m\u001b[0me_factor\u001b[0m\u001b[0;34m,\u001b[0m\u001b[0mZZ\u001b[0m\u001b[0;34m)\u001b[0m\u001b[0;34m\u001b[0m\u001b[0m\n\u001b[0m\u001b[1;32m     20\u001b[0m         \u001b[0;31m#if (count==3):\u001b[0m\u001b[0;34m\u001b[0m\u001b[0;34m\u001b[0m\u001b[0m\n\u001b[1;32m     21\u001b[0m         \u001b[0;31m#    break\u001b[0m\u001b[0;34m\u001b[0m\u001b[0;34m\u001b[0m\u001b[0m\n",
      "\u001b[0;32m<ipython-input-9-32d79a6ef43e>\u001b[0m in \u001b[0;36mcal_all\u001b[0;34m(Qb, Sn, dQb, dSn, e_factor, Z)\u001b[0m\n\u001b[1;32m      1\u001b[0m \u001b[0;32mdef\u001b[0m \u001b[0mcal_all\u001b[0m\u001b[0;34m(\u001b[0m\u001b[0mQb\u001b[0m\u001b[0;34m,\u001b[0m\u001b[0mSn\u001b[0m\u001b[0;34m,\u001b[0m\u001b[0mdQb\u001b[0m\u001b[0;34m,\u001b[0m\u001b[0mdSn\u001b[0m\u001b[0;34m,\u001b[0m\u001b[0me_factor\u001b[0m\u001b[0;34m,\u001b[0m\u001b[0mZ\u001b[0m\u001b[0;34m)\u001b[0m\u001b[0;34m:\u001b[0m\u001b[0;34m\u001b[0m\u001b[0m\n\u001b[0;32m----> 2\u001b[0;31m     \u001b[0mmean\u001b[0m\u001b[0;34m,\u001b[0m\u001b[0msigma\u001b[0m\u001b[0;34m,\u001b[0m\u001b[0mmeanfit\u001b[0m \u001b[0;34m=\u001b[0m \u001b[0mevalEmeanVar\u001b[0m\u001b[0;34m(\u001b[0m\u001b[0mQb\u001b[0m\u001b[0;34m,\u001b[0m\u001b[0mSn\u001b[0m\u001b[0;34m,\u001b[0m\u001b[0mdQb\u001b[0m\u001b[0;34m,\u001b[0m\u001b[0mdSn\u001b[0m\u001b[0;34m,\u001b[0m\u001b[0mZ\u001b[0m\u001b[0;34m)\u001b[0m\u001b[0;34m\u001b[0m\u001b[0m\n\u001b[0m\u001b[1;32m      3\u001b[0m     \u001b[0me_mean\u001b[0m \u001b[0;34m=\u001b[0m \u001b[0mmean\u001b[0m \u001b[0;34m*\u001b[0m \u001b[0me_factor\u001b[0m\u001b[0;34m\u001b[0m\u001b[0m\n\u001b[1;32m      4\u001b[0m     \u001b[0me_mean_fit\u001b[0m \u001b[0;34m=\u001b[0m \u001b[0mmeanfit\u001b[0m \u001b[0;34m*\u001b[0m \u001b[0me_factor\u001b[0m\u001b[0;34m\u001b[0m\u001b[0m\n\u001b[1;32m      5\u001b[0m     \u001b[0me_sigma\u001b[0m \u001b[0;34m=\u001b[0m \u001b[0msigma\u001b[0m \u001b[0;34m*\u001b[0m \u001b[0me_factor\u001b[0m\u001b[0;34m\u001b[0m\u001b[0m\n",
      "\u001b[0;32m<ipython-input-7-fe61d051e88e>\u001b[0m in \u001b[0;36mevalEmeanVar\u001b[0;34m(Qb, Sn, dQb, dSn, ZZ, n)\u001b[0m\n\u001b[1;32m      5\u001b[0m         \u001b[0mSn_i\u001b[0m \u001b[0;34m=\u001b[0m \u001b[0mr\u001b[0m\u001b[0;34m.\u001b[0m\u001b[0mGaus\u001b[0m\u001b[0;34m(\u001b[0m\u001b[0mSn\u001b[0m\u001b[0;34m,\u001b[0m\u001b[0mdSn\u001b[0m\u001b[0;34m)\u001b[0m\u001b[0;34m\u001b[0m\u001b[0m\n\u001b[1;32m      6\u001b[0m         \u001b[0mQb_i\u001b[0m \u001b[0;34m=\u001b[0m \u001b[0mr\u001b[0m\u001b[0;34m.\u001b[0m\u001b[0mGaus\u001b[0m\u001b[0;34m(\u001b[0m\u001b[0mQb\u001b[0m\u001b[0;34m,\u001b[0m\u001b[0mdQb\u001b[0m\u001b[0;34m)\u001b[0m\u001b[0;34m\u001b[0m\u001b[0m\n\u001b[0;32m----> 7\u001b[0;31m         \u001b[0mretVal\u001b[0m\u001b[0;34m.\u001b[0m\u001b[0mappend\u001b[0m\u001b[0;34m(\u001b[0m\u001b[0mevalEmean\u001b[0m\u001b[0;34m(\u001b[0m\u001b[0mQb_i\u001b[0m\u001b[0;34m,\u001b[0m\u001b[0mSn_i\u001b[0m\u001b[0;34m,\u001b[0m\u001b[0mZZ\u001b[0m\u001b[0;34m)\u001b[0m\u001b[0;34m)\u001b[0m\u001b[0;34m\u001b[0m\u001b[0m\n\u001b[0m\u001b[1;32m      8\u001b[0m     \u001b[0mretVal\u001b[0m \u001b[0;34m=\u001b[0m \u001b[0marray\u001b[0m\u001b[0;34m.\u001b[0m\u001b[0marray\u001b[0m\u001b[0;34m(\u001b[0m\u001b[0;34m'f'\u001b[0m\u001b[0;34m,\u001b[0m\u001b[0mretVal\u001b[0m\u001b[0;34m)\u001b[0m\u001b[0;34m\u001b[0m\u001b[0m\n\u001b[1;32m      9\u001b[0m     \u001b[0mmeanfit\u001b[0m \u001b[0;34m=\u001b[0m \u001b[0mROOT\u001b[0m\u001b[0;34m.\u001b[0m\u001b[0mTMath\u001b[0m\u001b[0;34m.\u001b[0m\u001b[0mMean\u001b[0m\u001b[0;34m(\u001b[0m\u001b[0mn\u001b[0m\u001b[0;34m,\u001b[0m\u001b[0mretVal\u001b[0m\u001b[0;34m)\u001b[0m\u001b[0;34m\u001b[0m\u001b[0m\n",
      "\u001b[0;32m<ipython-input-6-60bd76c544d6>\u001b[0m in \u001b[0;36mevalEmean\u001b[0;34m(Qb, Sn, ZZ)\u001b[0m\n\u001b[1;32m      7\u001b[0m     \u001b[0mf_n\u001b[0m\u001b[0;34m.\u001b[0m\u001b[0mSetParameter\u001b[0m\u001b[0;34m(\u001b[0m\u001b[0;36m1\u001b[0m\u001b[0;34m,\u001b[0m\u001b[0mQb\u001b[0m\u001b[0;34m)\u001b[0m\u001b[0;34m\u001b[0m\u001b[0m\n\u001b[1;32m      8\u001b[0m     \u001b[0mf_n\u001b[0m\u001b[0;34m.\u001b[0m\u001b[0mSetParameter\u001b[0m\u001b[0;34m(\u001b[0m\u001b[0;36m2\u001b[0m\u001b[0;34m,\u001b[0m\u001b[0mSn\u001b[0m\u001b[0;34m)\u001b[0m\u001b[0;34m\u001b[0m\u001b[0m\n\u001b[0;32m----> 9\u001b[0;31m     \u001b[0;32mreturn\u001b[0m \u001b[0mf_n\u001b[0m\u001b[0;34m.\u001b[0m\u001b[0mIntegral\u001b[0m\u001b[0;34m(\u001b[0m\u001b[0mSn\u001b[0m\u001b[0;34m,\u001b[0m\u001b[0mQb\u001b[0m\u001b[0;34m,\u001b[0m\u001b[0;36m0.01\u001b[0m\u001b[0;34m)\u001b[0m\u001b[0;34m/\u001b[0m\u001b[0mf_d\u001b[0m\u001b[0;34m.\u001b[0m\u001b[0mIntegral\u001b[0m\u001b[0;34m(\u001b[0m\u001b[0mSn\u001b[0m\u001b[0;34m,\u001b[0m\u001b[0mQb\u001b[0m\u001b[0;34m,\u001b[0m\u001b[0;36m0.01\u001b[0m\u001b[0;34m)\u001b[0m\u001b[0;34m\u001b[0m\u001b[0m\n\u001b[0m",
      "\u001b[0;31mException\u001b[0m: double TF1::Integral(double a, double b, double epsrel = 9.9999999999999998E-13) =>\n    TFN python function call failed (C++ exception of type runtime_error)"
     ]
    }
   ],
   "source": [
    "cal_bash(\"input_Qb1n.txt\",\"test.txt\")"
   ]
  },
  {
   "cell_type": "code",
   "execution_count": null,
   "metadata": {},
   "outputs": [],
   "source": []
  }
 ],
 "metadata": {
  "kernelspec": {
   "display_name": "Python 3",
   "language": "python",
   "name": "python3"
  },
  "language_info": {
   "codemirror_mode": {
    "name": "ipython",
    "version": 2
   },
   "file_extension": ".py",
   "mimetype": "text/x-python",
   "name": "python",
   "nbconvert_exporter": "python",
   "pygments_lexer": "ipython2",
   "version": "2.7.5"
  }
 },
 "nbformat": 4,
 "nbformat_minor": 2
}
