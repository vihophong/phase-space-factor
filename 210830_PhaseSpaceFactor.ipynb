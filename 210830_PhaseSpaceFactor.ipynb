{
 "cells": [
  {
   "cell_type": "code",
   "execution_count": 1,
   "metadata": {},
   "outputs": [
    {
     "name": "stdout",
     "output_type": "stream",
     "text": [
      "Welcome to JupyROOT 6.24/06\n"
     ]
    }
   ],
   "source": [
    "import ROOT\n",
    "import matplotlib.pyplot as plt\n",
    "import numpy as np\n",
    "import array"
   ]
  },
  {
   "cell_type": "markdown",
   "metadata": {},
   "source": [
    "### Read csv file with parameters and put it into an array of dictionary"
   ]
  },
  {
   "cell_type": "code",
   "execution_count": 2,
   "metadata": {},
   "outputs": [],
   "source": [
    "tree = ROOT.TTree(\"tree\",\"tree\");\n",
    "tree.ReadFile(\"f_table_wilkinson74.csv\");\n",
    "Z = np.zeros(1,dtype=int)\n",
    "A = np.zeros(1,dtype=int)\n",
    "An = np.zeros(20)\n",
    "tree.SetBranchAddress(\"Z\",Z);\n",
    "tree.SetBranchAddress(\"A\",A);\n",
    "tree.SetBranchAddress(\"An\",An);\n",
    "ftable = []\n",
    "for i in range(tree.GetEntries()):\n",
    "    tree.GetEntry(i)\n",
    "    An_c=[]\n",
    "    Z_c=Z[0]\n",
    "    A_c=A[0]\n",
    "    for j in An:\n",
    "        An_c.append(j)\n",
    "    ftable.append({\"Z\": Z_c,\"A\": A_c,\"An\": An_c})\n",
    "np.save(\"f_table_wilkinson74.npy\",ftable)"
   ]
  },
  {
   "cell_type": "markdown",
   "metadata": {},
   "source": [
    "### Load .npy file and create a function"
   ]
  },
  {
   "cell_type": "code",
   "execution_count": 3,
   "metadata": {},
   "outputs": [],
   "source": [
    "ftable  = np.load(\"f_table_wilkinson74.npy\",allow_pickle='TRUE')"
   ]
  },
  {
   "cell_type": "code",
   "execution_count": 4,
   "metadata": {},
   "outputs": [],
   "source": [
    "def f_func(x,p):\n",
    "    Z = int(p[0])\n",
    "    E = p[1]-x[0]\n",
    "    W = E/0.510998918+1 #unit of mec2\n",
    "    if (W**2-1)<0:\n",
    "        p0 = 0\n",
    "    else:\n",
    "        p0 = np.sqrt(W**2-1)\n",
    "    if (W+p0)<0:\n",
    "        fZ0 = 1./60.*(2*W**4-9*W**2-8)*p0 +1/4*W\n",
    "    else:\n",
    "        fZ0 = 1./60.*(2*W**4-9*W**2-8)*p0 +1/4*W*np.log(W+p0)\n",
    "    An = ftable[Z-2][\"An\"]\n",
    "    An_i=[]\n",
    "    if (E<0.079):\n",
    "        An_i.append(An[0])\n",
    "        An_i.append(An[1])\n",
    "        An_i.append(An[2])\n",
    "        An_i.append(An[3])\n",
    "    elif (E>=0.079 and E<0.501):\n",
    "        An_i.append(An[4])\n",
    "        An_i.append(An[5])\n",
    "        An_i.append(An[6])\n",
    "        An_i.append(An[7])\n",
    "    elif (E>=0.501 and E<3.162):\n",
    "        An_i.append(An[8])\n",
    "        An_i.append(An[9])\n",
    "        An_i.append(An[10])\n",
    "        An_i.append(An[11])\n",
    "    elif (E>=3.162 and E<12.589):\n",
    "        An_i.append(An[12])\n",
    "        An_i.append(An[13])\n",
    "        An_i.append(An[14])\n",
    "        An_i.append(An[15])\n",
    "    elif (E>=12.589):\n",
    "        An_i.append(An[16])\n",
    "        An_i.append(An[17])\n",
    "        An_i.append(An[18])\n",
    "        An_i.append(An[19])\n",
    "    if (E<0):\n",
    "        E = 0.001\n",
    "    S = np.exp(An_i[0]+An_i[1]*np.log(E)+An_i[2]*(np.log(E)**2)+An_i[3]*(np.log(E)**3))\n",
    "    return fZ0*S          "
   ]
  },
  {
   "cell_type": "markdown",
   "metadata": {},
   "source": [
    "### Numerator to calculate mean energy"
   ]
  },
  {
   "cell_type": "code",
   "execution_count": 5,
   "metadata": {},
   "outputs": [],
   "source": [
    "def f_func_num(x,p):\n",
    "    return f_func(x,p)*(x[0]-p[2])"
   ]
  },
  {
   "cell_type": "code",
   "execution_count": 6,
   "metadata": {},
   "outputs": [],
   "source": [
    "def evalEmean(Qb,Sn,ZZ):  \n",
    "    f_d = ROOT.TF1(\"f_func\",f_func,0.,Qb,2);\n",
    "    f_d.SetParameter(0,ZZ)\n",
    "    f_d.SetParameter(1,Qb)\n",
    "    f_n = ROOT.TF1(\"f_func_num\",f_func_num,0.,Qb,3);\n",
    "    f_n.SetParameter(0,ZZ)\n",
    "    f_n.SetParameter(1,Qb)\n",
    "    f_n.SetParameter(2,Sn)\n",
    "    return f_n.Integral(Sn,Qb,0.01)/f_d.Integral(Sn,Qb,0.01)"
   ]
  },
  {
   "cell_type": "code",
   "execution_count": 7,
   "metadata": {},
   "outputs": [],
   "source": [
    "def evalEmeanVar(Qb,Sn,dQb,dSn,ZZ,n=1000):\n",
    "    retVal = []\n",
    "    r = ROOT.TRandom3()\n",
    "    for i in range(n):\n",
    "        Sn_i = r.Gaus(Sn,dSn)\n",
    "        Qb_i = r.Gaus(Qb,dQb)\n",
    "        retVal.append(evalEmean(Qb_i,Sn_i,ZZ))\n",
    "    retVal = array.array('f',retVal)\n",
    "    meanfit = ROOT.TMath.Mean(n,retVal)\n",
    "    mean = evalEmean(Qb,Sn,ZZ)\n",
    "    sigma = ROOT.TMath.RMS(n,retVal)\n",
    "    return mean,sigma,meanfit"
   ]
  },
  {
   "cell_type": "code",
   "execution_count": 8,
   "metadata": {},
   "outputs": [],
   "source": [
    "def cal_eff(E):\n",
    "    gr = ROOT.TGraph(\"upc_brikenV69_wClover.txt\",\"%*lg %*lg %*lg %lg %lg %*lg\")\n",
    "    return gr.Eval(E)"
   ]
  },
  {
   "cell_type": "code",
   "execution_count": 9,
   "metadata": {},
   "outputs": [],
   "source": [
    "def cal_all(Qb,Sn,dQb,dSn,e_factor,Z):\n",
    "    mean,sigma,meanfit = evalEmeanVar(Qb,Sn,dQb,dSn,Z)\n",
    "    e_mean = mean * e_factor\n",
    "    e_mean_fit = meanfit * e_factor\n",
    "    e_sigma = sigma * e_factor\n",
    "    e_low  = e_mean - np.sqrt((e_mean-e_mean/2)**2+e_sigma**2)\n",
    "    if (e_low<0):\n",
    "        e_low  = e_mean/2\n",
    "    e_hi = e_mean + np.sqrt((e_mean*2-e_mean)**2+e_sigma**2)\n",
    "    return e_mean,cal_eff(e_mean),e_low,cal_eff(e_low),e_hi,cal_eff(e_hi),e_mean_fit,e_sigma"
   ]
  },
  {
   "cell_type": "code",
   "execution_count": 10,
   "metadata": {},
   "outputs": [
    {
     "name": "stdout",
     "output_type": "stream",
     "text": [
      "1.631078178700914\n"
     ]
    }
   ],
   "source": [
    "print(evalEmean(14.464,3.63119,24))"
   ]
  },
  {
   "cell_type": "code",
   "execution_count": 11,
   "metadata": {},
   "outputs": [
    {
     "name": "stdout",
     "output_type": "stream",
     "text": [
      "0.8351454299413723 0.6608833102226969 0.4033581721476716 0.6695932836557046 1.6774880875676934 0.6331402858983755 0.8385558662414551 0.10987840417941033\n"
     ]
    }
   ],
   "source": [
    "e_mean,eff_mean,e_low,eff_low,e_hi,eff_hi,e_mean_fit,e_sigma = cal_all(14.464,3.63119,1.,1.,0.5,49)\n",
    "print(e_mean,eff_mean,e_low,eff_low,e_hi,eff_hi,e_mean_fit,e_sigma)"
   ]
  },
  {
   "cell_type": "code",
   "execution_count": 12,
   "metadata": {},
   "outputs": [],
   "source": [
    "def cal_bash(inputfile, outputfile,e_factor=1):    \n",
    "    file1 = open(inputfile,'r')\n",
    "    count = 0\n",
    "    outlines = []\n",
    "    while True:\n",
    "        count+=1\n",
    "        line = file1.readline()\n",
    "        if not line:\n",
    "            break\n",
    "        line = line.strip().split()\n",
    "        Qb = float(line[2])\n",
    "        Sn = float(line[1])\n",
    "        dQb = float(line[4])\n",
    "        dSn = float(line[3])\n",
    "        ZZ = int(line[0])\n",
    "        #print(line)\n",
    "        e_mean,eff_mean,e_low,eff_low,e_hi,eff_hi,e_mean_fit,e_sigma = cal_all(Qb,Sn,dQb,dSn,e_factor,ZZ)\n",
    "        txt = '%d %.4f %.4f %.4f %.4f %.4f %.4f' % (ZZ,e_mean,eff_mean,e_low,eff_low, e_hi, eff_hi)\n",
    "        outlines.append(txt+'\\n')\n",
    "        #print(line,'%i - %.4f %.4f %.4f %.4f %.4f %.4f' % (count,e_mean,eff_mean,e_low,eff_low, e_hi, eff_hi))\n",
    "#         if (count>3):\n",
    "#             break\n",
    "    file2 = open(outputfile,'w')\n",
    "    file2.writelines(outlines)"
   ]
  },
  {
   "cell_type": "code",
   "execution_count": 13,
   "metadata": {},
   "outputs": [],
   "source": [
    "cal_bash(\"input_Qb1n.txt\",\"output_Qb1n.txt\")"
   ]
  },
  {
   "cell_type": "code",
   "execution_count": 18,
   "metadata": {},
   "outputs": [
    {
     "ename": "AttributeError",
     "evalue": "'Line2D' object has no property 'fmt'",
     "output_type": "error",
     "traceback": [
      "\u001b[0;31m---------------------------------------------------------------------------\u001b[0m",
      "\u001b[0;31mAttributeError\u001b[0m                            Traceback (most recent call last)",
      "\u001b[0;32m<ipython-input-18-02a13bfc6184>\u001b[0m in \u001b[0;36m<module>\u001b[0;34m\u001b[0m\n\u001b[1;32m     24\u001b[0m     \u001b[0mline\u001b[0m \u001b[0;34m=\u001b[0m \u001b[0mline\u001b[0m\u001b[0;34m.\u001b[0m\u001b[0mstrip\u001b[0m\u001b[0;34m(\u001b[0m\u001b[0;34m)\u001b[0m\u001b[0;34m.\u001b[0m\u001b[0msplit\u001b[0m\u001b[0;34m(\u001b[0m\u001b[0;34m)\u001b[0m\u001b[0;34m\u001b[0m\u001b[0;34m\u001b[0m\u001b[0m\n\u001b[1;32m     25\u001b[0m     \u001b[0mEmean\u001b[0m\u001b[0;34m.\u001b[0m\u001b[0mappend\u001b[0m\u001b[0;34m(\u001b[0m\u001b[0mfloat\u001b[0m\u001b[0;34m(\u001b[0m\u001b[0mline\u001b[0m\u001b[0;34m[\u001b[0m\u001b[0;36m1\u001b[0m\u001b[0;34m]\u001b[0m\u001b[0;34m)\u001b[0m\u001b[0;34m)\u001b[0m\u001b[0;34m\u001b[0m\u001b[0;34m\u001b[0m\u001b[0m\n\u001b[0;32m---> 26\u001b[0;31m \u001b[0mplt\u001b[0m\u001b[0;34m.\u001b[0m\u001b[0mplot\u001b[0m\u001b[0;34m(\u001b[0m\u001b[0mQb1n\u001b[0m\u001b[0;34m,\u001b[0m\u001b[0mEmean\u001b[0m\u001b[0;34m,\u001b[0m\u001b[0mfmt\u001b[0m\u001b[0;34m=\u001b[0m\u001b[0;34m'o'\u001b[0m\u001b[0;34m)\u001b[0m\u001b[0;34m\u001b[0m\u001b[0;34m\u001b[0m\u001b[0m\n\u001b[0m",
      "\u001b[0;32m~/venv/lib/python3.6/site-packages/matplotlib/pyplot.py\u001b[0m in \u001b[0;36mplot\u001b[0;34m(scalex, scaley, data, *args, **kwargs)\u001b[0m\n\u001b[1;32m   2840\u001b[0m     return gca().plot(\n\u001b[1;32m   2841\u001b[0m         \u001b[0;34m*\u001b[0m\u001b[0margs\u001b[0m\u001b[0;34m,\u001b[0m \u001b[0mscalex\u001b[0m\u001b[0;34m=\u001b[0m\u001b[0mscalex\u001b[0m\u001b[0;34m,\u001b[0m \u001b[0mscaley\u001b[0m\u001b[0;34m=\u001b[0m\u001b[0mscaley\u001b[0m\u001b[0;34m,\u001b[0m\u001b[0;34m\u001b[0m\u001b[0;34m\u001b[0m\u001b[0m\n\u001b[0;32m-> 2842\u001b[0;31m         **({\"data\": data} if data is not None else {}), **kwargs)\n\u001b[0m\u001b[1;32m   2843\u001b[0m \u001b[0;34m\u001b[0m\u001b[0m\n\u001b[1;32m   2844\u001b[0m \u001b[0;34m\u001b[0m\u001b[0m\n",
      "\u001b[0;32m~/venv/lib/python3.6/site-packages/matplotlib/axes/_axes.py\u001b[0m in \u001b[0;36mplot\u001b[0;34m(self, scalex, scaley, data, *args, **kwargs)\u001b[0m\n\u001b[1;32m   1741\u001b[0m         \"\"\"\n\u001b[1;32m   1742\u001b[0m         \u001b[0mkwargs\u001b[0m \u001b[0;34m=\u001b[0m \u001b[0mcbook\u001b[0m\u001b[0;34m.\u001b[0m\u001b[0mnormalize_kwargs\u001b[0m\u001b[0;34m(\u001b[0m\u001b[0mkwargs\u001b[0m\u001b[0;34m,\u001b[0m \u001b[0mmlines\u001b[0m\u001b[0;34m.\u001b[0m\u001b[0mLine2D\u001b[0m\u001b[0;34m)\u001b[0m\u001b[0;34m\u001b[0m\u001b[0;34m\u001b[0m\u001b[0m\n\u001b[0;32m-> 1743\u001b[0;31m         \u001b[0mlines\u001b[0m \u001b[0;34m=\u001b[0m \u001b[0;34m[\u001b[0m\u001b[0;34m*\u001b[0m\u001b[0mself\u001b[0m\u001b[0;34m.\u001b[0m\u001b[0m_get_lines\u001b[0m\u001b[0;34m(\u001b[0m\u001b[0;34m*\u001b[0m\u001b[0margs\u001b[0m\u001b[0;34m,\u001b[0m \u001b[0mdata\u001b[0m\u001b[0;34m=\u001b[0m\u001b[0mdata\u001b[0m\u001b[0;34m,\u001b[0m \u001b[0;34m**\u001b[0m\u001b[0mkwargs\u001b[0m\u001b[0;34m)\u001b[0m\u001b[0;34m]\u001b[0m\u001b[0;34m\u001b[0m\u001b[0;34m\u001b[0m\u001b[0m\n\u001b[0m\u001b[1;32m   1744\u001b[0m         \u001b[0;32mfor\u001b[0m \u001b[0mline\u001b[0m \u001b[0;32min\u001b[0m \u001b[0mlines\u001b[0m\u001b[0;34m:\u001b[0m\u001b[0;34m\u001b[0m\u001b[0;34m\u001b[0m\u001b[0m\n\u001b[1;32m   1745\u001b[0m             \u001b[0mself\u001b[0m\u001b[0;34m.\u001b[0m\u001b[0madd_line\u001b[0m\u001b[0;34m(\u001b[0m\u001b[0mline\u001b[0m\u001b[0;34m)\u001b[0m\u001b[0;34m\u001b[0m\u001b[0;34m\u001b[0m\u001b[0m\n",
      "\u001b[0;32m~/venv/lib/python3.6/site-packages/matplotlib/axes/_base.py\u001b[0m in \u001b[0;36m__call__\u001b[0;34m(self, data, *args, **kwargs)\u001b[0m\n\u001b[1;32m    271\u001b[0m                 \u001b[0mthis\u001b[0m \u001b[0;34m+=\u001b[0m \u001b[0margs\u001b[0m\u001b[0;34m[\u001b[0m\u001b[0;36m0\u001b[0m\u001b[0;34m]\u001b[0m\u001b[0;34m,\u001b[0m\u001b[0;34m\u001b[0m\u001b[0;34m\u001b[0m\u001b[0m\n\u001b[1;32m    272\u001b[0m                 \u001b[0margs\u001b[0m \u001b[0;34m=\u001b[0m \u001b[0margs\u001b[0m\u001b[0;34m[\u001b[0m\u001b[0;36m1\u001b[0m\u001b[0;34m:\u001b[0m\u001b[0;34m]\u001b[0m\u001b[0;34m\u001b[0m\u001b[0;34m\u001b[0m\u001b[0m\n\u001b[0;32m--> 273\u001b[0;31m             \u001b[0;32myield\u001b[0m \u001b[0;32mfrom\u001b[0m \u001b[0mself\u001b[0m\u001b[0;34m.\u001b[0m\u001b[0m_plot_args\u001b[0m\u001b[0;34m(\u001b[0m\u001b[0mthis\u001b[0m\u001b[0;34m,\u001b[0m \u001b[0mkwargs\u001b[0m\u001b[0;34m)\u001b[0m\u001b[0;34m\u001b[0m\u001b[0;34m\u001b[0m\u001b[0m\n\u001b[0m\u001b[1;32m    274\u001b[0m \u001b[0;34m\u001b[0m\u001b[0m\n\u001b[1;32m    275\u001b[0m     \u001b[0;32mdef\u001b[0m \u001b[0mget_next_color\u001b[0m\u001b[0;34m(\u001b[0m\u001b[0mself\u001b[0m\u001b[0;34m)\u001b[0m\u001b[0;34m:\u001b[0m\u001b[0;34m\u001b[0m\u001b[0;34m\u001b[0m\u001b[0m\n",
      "\u001b[0;32m~/venv/lib/python3.6/site-packages/matplotlib/axes/_base.py\u001b[0m in \u001b[0;36m_plot_args\u001b[0;34m(self, tup, kwargs)\u001b[0m\n\u001b[1;32m    417\u001b[0m             \u001b[0;32mraise\u001b[0m \u001b[0mValueError\u001b[0m\u001b[0;34m(\u001b[0m\u001b[0;34mf\"x has {ncx} columns but y has {ncy} columns\"\u001b[0m\u001b[0;34m)\u001b[0m\u001b[0;34m\u001b[0m\u001b[0;34m\u001b[0m\u001b[0m\n\u001b[1;32m    418\u001b[0m         return [func(x[:, j % ncx], y[:, j % ncy], kw, kwargs)\n\u001b[0;32m--> 419\u001b[0;31m                 for j in range(max(ncx, ncy))]\n\u001b[0m\u001b[1;32m    420\u001b[0m \u001b[0;34m\u001b[0m\u001b[0m\n\u001b[1;32m    421\u001b[0m \u001b[0;34m\u001b[0m\u001b[0m\n",
      "\u001b[0;32m~/venv/lib/python3.6/site-packages/matplotlib/axes/_base.py\u001b[0m in \u001b[0;36m<listcomp>\u001b[0;34m(.0)\u001b[0m\n\u001b[1;32m    417\u001b[0m             \u001b[0;32mraise\u001b[0m \u001b[0mValueError\u001b[0m\u001b[0;34m(\u001b[0m\u001b[0;34mf\"x has {ncx} columns but y has {ncy} columns\"\u001b[0m\u001b[0;34m)\u001b[0m\u001b[0;34m\u001b[0m\u001b[0;34m\u001b[0m\u001b[0m\n\u001b[1;32m    418\u001b[0m         return [func(x[:, j % ncx], y[:, j % ncy], kw, kwargs)\n\u001b[0;32m--> 419\u001b[0;31m                 for j in range(max(ncx, ncy))]\n\u001b[0m\u001b[1;32m    420\u001b[0m \u001b[0;34m\u001b[0m\u001b[0m\n\u001b[1;32m    421\u001b[0m \u001b[0;34m\u001b[0m\u001b[0m\n",
      "\u001b[0;32m~/venv/lib/python3.6/site-packages/matplotlib/axes/_base.py\u001b[0m in \u001b[0;36m_makeline\u001b[0;34m(self, x, y, kw, kwargs)\u001b[0m\n\u001b[1;32m    310\u001b[0m         \u001b[0mdefault_dict\u001b[0m \u001b[0;34m=\u001b[0m \u001b[0mself\u001b[0m\u001b[0;34m.\u001b[0m\u001b[0m_getdefaults\u001b[0m\u001b[0;34m(\u001b[0m\u001b[0mset\u001b[0m\u001b[0;34m(\u001b[0m\u001b[0;34m)\u001b[0m\u001b[0;34m,\u001b[0m \u001b[0mkw\u001b[0m\u001b[0;34m)\u001b[0m\u001b[0;34m\u001b[0m\u001b[0;34m\u001b[0m\u001b[0m\n\u001b[1;32m    311\u001b[0m         \u001b[0mself\u001b[0m\u001b[0;34m.\u001b[0m\u001b[0m_setdefaults\u001b[0m\u001b[0;34m(\u001b[0m\u001b[0mdefault_dict\u001b[0m\u001b[0;34m,\u001b[0m \u001b[0mkw\u001b[0m\u001b[0;34m)\u001b[0m\u001b[0;34m\u001b[0m\u001b[0;34m\u001b[0m\u001b[0m\n\u001b[0;32m--> 312\u001b[0;31m         \u001b[0mseg\u001b[0m \u001b[0;34m=\u001b[0m \u001b[0mmlines\u001b[0m\u001b[0;34m.\u001b[0m\u001b[0mLine2D\u001b[0m\u001b[0;34m(\u001b[0m\u001b[0mx\u001b[0m\u001b[0;34m,\u001b[0m \u001b[0my\u001b[0m\u001b[0;34m,\u001b[0m \u001b[0;34m**\u001b[0m\u001b[0mkw\u001b[0m\u001b[0;34m)\u001b[0m\u001b[0;34m\u001b[0m\u001b[0;34m\u001b[0m\u001b[0m\n\u001b[0m\u001b[1;32m    313\u001b[0m         \u001b[0;32mreturn\u001b[0m \u001b[0mseg\u001b[0m\u001b[0;34m\u001b[0m\u001b[0;34m\u001b[0m\u001b[0m\n\u001b[1;32m    314\u001b[0m \u001b[0;34m\u001b[0m\u001b[0m\n",
      "\u001b[0;32m~/venv/lib/python3.6/site-packages/matplotlib/lines.py\u001b[0m in \u001b[0;36m__init__\u001b[0;34m(self, xdata, ydata, linewidth, linestyle, color, marker, markersize, markeredgewidth, markeredgecolor, markerfacecolor, markerfacecoloralt, fillstyle, antialiased, dash_capstyle, solid_capstyle, dash_joinstyle, solid_joinstyle, pickradius, drawstyle, markevery, **kwargs)\u001b[0m\n\u001b[1;32m    388\u001b[0m         \u001b[0;31m# update kwargs before updating data to give the caller a\u001b[0m\u001b[0;34m\u001b[0m\u001b[0;34m\u001b[0m\u001b[0;34m\u001b[0m\u001b[0m\n\u001b[1;32m    389\u001b[0m         \u001b[0;31m# chance to init axes (and hence unit support)\u001b[0m\u001b[0;34m\u001b[0m\u001b[0;34m\u001b[0m\u001b[0;34m\u001b[0m\u001b[0m\n\u001b[0;32m--> 390\u001b[0;31m         \u001b[0mself\u001b[0m\u001b[0;34m.\u001b[0m\u001b[0mupdate\u001b[0m\u001b[0;34m(\u001b[0m\u001b[0mkwargs\u001b[0m\u001b[0;34m)\u001b[0m\u001b[0;34m\u001b[0m\u001b[0;34m\u001b[0m\u001b[0m\n\u001b[0m\u001b[1;32m    391\u001b[0m         \u001b[0mself\u001b[0m\u001b[0;34m.\u001b[0m\u001b[0mpickradius\u001b[0m \u001b[0;34m=\u001b[0m \u001b[0mpickradius\u001b[0m\u001b[0;34m\u001b[0m\u001b[0;34m\u001b[0m\u001b[0m\n\u001b[1;32m    392\u001b[0m         \u001b[0mself\u001b[0m\u001b[0;34m.\u001b[0m\u001b[0mind_offset\u001b[0m \u001b[0;34m=\u001b[0m \u001b[0;36m0\u001b[0m\u001b[0;34m\u001b[0m\u001b[0;34m\u001b[0m\u001b[0m\n",
      "\u001b[0;32m~/venv/lib/python3.6/site-packages/matplotlib/artist.py\u001b[0m in \u001b[0;36mupdate\u001b[0;34m(self, props)\u001b[0m\n\u001b[1;32m    994\u001b[0m                     \u001b[0mfunc\u001b[0m \u001b[0;34m=\u001b[0m \u001b[0mgetattr\u001b[0m\u001b[0;34m(\u001b[0m\u001b[0mself\u001b[0m\u001b[0;34m,\u001b[0m \u001b[0;34mf\"set_{k}\"\u001b[0m\u001b[0;34m,\u001b[0m \u001b[0;32mNone\u001b[0m\u001b[0;34m)\u001b[0m\u001b[0;34m\u001b[0m\u001b[0;34m\u001b[0m\u001b[0m\n\u001b[1;32m    995\u001b[0m                     \u001b[0;32mif\u001b[0m \u001b[0;32mnot\u001b[0m \u001b[0mcallable\u001b[0m\u001b[0;34m(\u001b[0m\u001b[0mfunc\u001b[0m\u001b[0;34m)\u001b[0m\u001b[0;34m:\u001b[0m\u001b[0;34m\u001b[0m\u001b[0;34m\u001b[0m\u001b[0m\n\u001b[0;32m--> 996\u001b[0;31m                         raise AttributeError(f\"{type(self).__name__!r} object \"\n\u001b[0m\u001b[1;32m    997\u001b[0m                                              f\"has no property {k!r}\")\n\u001b[1;32m    998\u001b[0m                     \u001b[0mret\u001b[0m\u001b[0;34m.\u001b[0m\u001b[0mappend\u001b[0m\u001b[0;34m(\u001b[0m\u001b[0mfunc\u001b[0m\u001b[0;34m(\u001b[0m\u001b[0mv\u001b[0m\u001b[0;34m)\u001b[0m\u001b[0;34m)\u001b[0m\u001b[0;34m\u001b[0m\u001b[0;34m\u001b[0m\u001b[0m\n",
      "\u001b[0;31mAttributeError\u001b[0m: 'Line2D' object has no property 'fmt'"
     ]
    },
    {
     "data": {
      "image/png": "[encoded data removed]",
      "text/plain": [
       "<Figure size 432x288 with 1 Axes>"
      ]
     },
     "metadata": {
      "needs_background": "light"
     },
     "output_type": "display_data"
    }
   ],
   "source": [
    "file1 = open(\"input_Qb1n.txt\",'r')\n",
    "count = 0\n",
    "Qb1n = []\n",
    "while True:\n",
    "    count+=1\n",
    "    line = file1.readline()\n",
    "    if not line:\n",
    "        break\n",
    "    line = line.strip().split()\n",
    "    Qb = float(line[2])\n",
    "    Sn = float(line[1])\n",
    "    dQb = float(line[4])\n",
    "    dSn = float(line[3])\n",
    "    ZZ = int(line[0])\n",
    "    Qb1n.append(Qb-Sn)\n",
    "file2 = open(\"output_Qb1n.txt\",'r')\n",
    "count = 0\n",
    "Emean = []\n",
    "while True:\n",
    "    count+=1\n",
    "    line = file2.readline()\n",
    "    if not line:\n",
    "        break\n",
    "    line = line.strip().split()\n",
    "    Emean.append(float(line[1]))\n",
    "plt.plot(Qb1n,Emean,)"
   ]
  },
  {
   "cell_type": "code",
   "execution_count": 17,
   "metadata": {},
   "outputs": [],
   "source": [
    "# cal_bash(\"input_Qb2n.txt\",\"output_Qb2n.txt\",0.5)"
   ]
  },
  {
   "cell_type": "code",
   "execution_count": null,
   "metadata": {},
   "outputs": [],
   "source": []
  }
 ],
 "metadata": {
  "kernelspec": {
   "display_name": "Python 3",
   "language": "python",
   "name": "python3"
  },
  "language_info": {
   "codemirror_mode": {
    "name": "ipython",
    "version": 3
   },
   "file_extension": ".py",
   "mimetype": "text/x-python",
   "name": "python",
   "nbconvert_exporter": "python",
   "pygments_lexer": "ipython3",
   "version": "3.6.9"
  }
 },
 "nbformat": 4,
 "nbformat_minor": 2
}
