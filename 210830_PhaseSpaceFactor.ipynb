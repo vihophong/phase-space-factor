{
 "cells": [
  {
   "cell_type": "code",
   "execution_count": 1,
   "metadata": {},
   "outputs": [
    {
     "name": "stdout",
     "output_type": "stream",
     "text": [
      "Welcome to JupyROOT 6.24/00\n"
     ]
    }
   ],
   "source": [
    "import ROOT\n",
    "import matplotlib.pyplot as plt\n",
    "import numpy as np\n",
    "import array"
   ]
  },
  {
   "cell_type": "markdown",
   "metadata": {},
   "source": [
    "### Read csv file with parameters and put it into an array of dictionary"
   ]
  },
  {
   "cell_type": "code",
   "execution_count": 2,
   "metadata": {},
   "outputs": [],
   "source": [
    "tree = ROOT.TTree(\"tree\",\"tree\");\n",
    "tree.ReadFile(\"f_table_wilkinson74.csv\");\n",
    "Z = np.zeros(1,dtype=int)\n",
    "A = np.zeros(1,dtype=int)\n",
    "An = np.zeros(20)\n",
    "tree.SetBranchAddress(\"Z\",Z);\n",
    "tree.SetBranchAddress(\"A\",A);\n",
    "tree.SetBranchAddress(\"An\",An);\n",
    "ftable = []\n",
    "for i in range(tree.GetEntries()):\n",
    "    tree.GetEntry(i)\n",
    "    An_c=[]\n",
    "    Z_c=Z[0]\n",
    "    A_c=A[0]\n",
    "    for j in An:\n",
    "        An_c.append(j)\n",
    "    ftable.append({\"Z\": Z_c,\"A\": A_c,\"An\": An_c})\n",
    "np.save(\"f_table_wilkinson74.npy\",ftable)"
   ]
  },
  {
   "cell_type": "markdown",
   "metadata": {},
   "source": [
    "### Load .npy file and create a function"
   ]
  },
  {
   "cell_type": "code",
   "execution_count": 3,
   "metadata": {},
   "outputs": [],
   "source": [
    "ftable  = np.load(\"f_table_wilkinson74.npy\",allow_pickle='TRUE')"
   ]
  },
  {
   "cell_type": "code",
   "execution_count": 4,
   "metadata": {},
   "outputs": [],
   "source": [
    "def f_func(x,p):\n",
    "    Z = int(p[0])\n",
    "    E = p[1]-x[0]\n",
    "    W = E/0.510998918+1 #unit of mec2\n",
    "    if (W**2-1)<0:\n",
    "        p0 = 0\n",
    "    else:\n",
    "        p0 = np.sqrt(W**2-1)\n",
    "    if (W+p0)<0:\n",
    "        fZ0 = 1./60.*(2*W**4-9*W**2-8)*p0 +1/4*W\n",
    "    else:\n",
    "        fZ0 = 1./60.*(2*W**4-9*W**2-8)*p0 +1/4*W*np.log(W+p0)\n",
    "    An = ftable[Z-2][\"An\"]\n",
    "    An_i=[]\n",
    "    if (E<0.079):\n",
    "        An_i.append(An[0])\n",
    "        An_i.append(An[1])\n",
    "        An_i.append(An[2])\n",
    "        An_i.append(An[3])\n",
    "    elif (E>=0.079 and E<0.501):\n",
    "        An_i.append(An[4])\n",
    "        An_i.append(An[5])\n",
    "        An_i.append(An[6])\n",
    "        An_i.append(An[7])\n",
    "    elif (E>=0.501 and E<3.162):\n",
    "        An_i.append(An[8])\n",
    "        An_i.append(An[9])\n",
    "        An_i.append(An[10])\n",
    "        An_i.append(An[11])\n",
    "    elif (E>=3.162 and E<12.589):\n",
    "        An_i.append(An[12])\n",
    "        An_i.append(An[13])\n",
    "        An_i.append(An[14])\n",
    "        An_i.append(An[15])\n",
    "    elif (E>=12.589):\n",
    "        An_i.append(An[16])\n",
    "        An_i.append(An[17])\n",
    "        An_i.append(An[18])\n",
    "        An_i.append(An[19])\n",
    "    if (E<0):\n",
    "        E = 0.001\n",
    "    S = np.exp(An_i[0]+An_i[1]*np.log(E)+An_i[2]*(np.log(E)**2)+An_i[3]*(np.log(E)**3))\n",
    "    return fZ0*S          "
   ]
  },
  {
   "cell_type": "markdown",
   "metadata": {},
   "source": [
    "### Numerator to calculate mean energy"
   ]
  },
  {
   "cell_type": "code",
   "execution_count": 5,
   "metadata": {},
   "outputs": [],
   "source": [
    "def f_func_num(x,p):\n",
    "    return f_func(x,p)*(x[0]-p[2])"
   ]
  },
  {
   "cell_type": "code",
   "execution_count": 6,
   "metadata": {},
   "outputs": [],
   "source": [
    "def evalEmean(Qb,Sn,ZZ):  \n",
    "    f_d = ROOT.TF1(\"f_func\",f_func,0.,Qb,2);\n",
    "    f_d.SetParameter(0,ZZ)\n",
    "    f_d.SetParameter(1,Qb)\n",
    "    f_n = ROOT.TF1(\"f_func_num\",f_func_num,0.,Qb,3);\n",
    "    f_n.SetParameter(0,ZZ)\n",
    "    f_n.SetParameter(1,Qb)\n",
    "    f_n.SetParameter(2,Sn)\n",
    "    return f_n.Integral(Sn,Qb,0.01)/f_d.Integral(Sn,Qb,0.01)"
   ]
  },
  {
   "cell_type": "code",
   "execution_count": 7,
   "metadata": {},
   "outputs": [],
   "source": [
    "def evalEmeanVar(Qb,Sn,dQb,dSn,ZZ,n=1000):\n",
    "    retVal = []\n",
    "    r = ROOT.TRandom3()\n",
    "    for i in range(n):\n",
    "        Sn_i = r.Gaus(Sn,dSn)\n",
    "        Qb_i = r.Gaus(Qb,dQb)\n",
    "        retVal.append(evalEmean(Qb_i,Sn_i,ZZ))\n",
    "    retVal = array.array('f',retVal)\n",
    "    meanfit = ROOT.TMath.Mean(n,retVal)\n",
    "    mean = evalEmean(Qb,Sn,ZZ)\n",
    "    sigma = ROOT.TMath.RMS(n,retVal)\n",
    "    return mean,sigma,meanfit"
   ]
  },
  {
   "cell_type": "code",
   "execution_count": 8,
   "metadata": {},
   "outputs": [],
   "source": [
    "def cal_eff(E):\n",
    "    gr = ROOT.TGraph(\"upc_brikenV69_wClover.txt\",\"%*lg %*lg %*lg %lg %lg %*lg\")\n",
    "    return gr.Eval(E)"
   ]
  },
  {
   "cell_type": "code",
   "execution_count": 9,
   "metadata": {},
   "outputs": [],
   "source": [
    "def cal_all(Qb,Sn,dQb,dSn,e_factor,Z):\n",
    "    mean,sigma,meanfit = evalEmeanVar(Qb,Sn,dQb,dSn,Z)\n",
    "    e_mean = mean * e_factor\n",
    "    e_mean_fit = meanfit * e_factor\n",
    "    e_sigma = sigma * e_factor\n",
    "    e_low  = e_mean - np.sqrt((e_mean-e_mean/2)**2+e_sigma**2)\n",
    "    if (e_low<0):\n",
    "        e_low  = e_mean/2\n",
    "    e_hi = e_mean + np.sqrt((e_mean*2-e_mean)**2+e_sigma**2)\n",
    "    return e_mean,cal_eff(e_mean),e_low,cal_eff(e_low),e_hi,cal_eff(e_hi),e_mean_fit,e_sigma"
   ]
  },
  {
   "cell_type": "code",
   "execution_count": null,
   "metadata": {},
   "outputs": [],
   "source": [
    "# print(evalEmean(9.2,11.3,24))\n",
    "f_d = ROOT.TF1(\"f_func\",f_func,0.,9.2,2)"
   ]
  },
  {
   "cell_type": "code",
   "execution_count": null,
   "metadata": {},
   "outputs": [],
   "source": [
    "e_mean,eff_mean,e_low,eff_low,e_hi,eff_hi,e_mean_fit,e_sigma = cal_all(14.464,3.63119,1.,1.,0.5,49)\n",
    "print(e_mean,eff_mean,e_low,eff_low,e_hi,eff_hi,e_mean_fit,e_sigma)"
   ]
  },
  {
   "cell_type": "code",
   "execution_count": null,
   "metadata": {},
   "outputs": [],
   "source": [
    "def cal_bash(inputfile, outputfile,e_factor=1):    \n",
    "    file1 = open(inputfile,'r')\n",
    "    count = 0\n",
    "    outlines = []\n",
    "    while True:\n",
    "        count+=1\n",
    "        line = file1.readline()\n",
    "        if not line:\n",
    "            break\n",
    "        line = line.strip().split()\n",
    "        Qb = float(line[2])\n",
    "        Sn = float(line[1])\n",
    "        dQb = float(line[4])\n",
    "        dSn = float(line[3])\n",
    "        ZZ = int(line[0])\n",
    "        e_mean,eff_mean,e_low,eff_low,e_hi,eff_hi,e_mean_fit,e_sigma = cal_all(Qb,Sn,dQb,dSn,e_factor,ZZ)\n",
    "        txt = '%d %.4f %.4f %.4f %.4f %.4f %.4f' % (ZZ,e_mean,eff_mean,e_low,eff_low, e_hi, eff_hi)\n",
    "        outlines.append(txt+'\\n')\n",
    "        #print(line,'%i - %.4f %.4f %.4f %.4f %.4f %.4f' % (count,e_mean,eff_mean,e_low,eff_low, e_hi, eff_hi))\n",
    "#         if (count>3):\n",
    "#             break\n",
    "    file2 = open(outputfile,'w')\n",
    "    file2.writelines(outlines)"
   ]
  },
  {
   "cell_type": "code",
   "execution_count": null,
   "metadata": {},
   "outputs": [],
   "source": [
    "#cal_bash(\"input_Qb1n.txt\",\"output_Qb1n.txt\")"
   ]
  },
  {
   "cell_type": "code",
   "execution_count": null,
   "metadata": {},
   "outputs": [],
   "source": [
    "#cal_bash(\"input_Qb2n.txt\",\"output_Qb2n.txt\",0.5)"
   ]
  },
  {
   "cell_type": "code",
   "execution_count": null,
   "metadata": {},
   "outputs": [],
   "source": []
  }
 ],
 "metadata": {
  "kernelspec": {
   "display_name": "Python 3",
   "language": "python",
   "name": "python3"
  },
  "language_info": {
   "codemirror_mode": {
    "name": "ipython",
    "version": 3
   },
   "file_extension": ".py",
   "mimetype": "text/x-python",
   "name": "python",
   "nbconvert_exporter": "python",
   "pygments_lexer": "ipython3",
   "version": "3.6.8"
  }
 },
 "nbformat": 4,
 "nbformat_minor": 2
}
